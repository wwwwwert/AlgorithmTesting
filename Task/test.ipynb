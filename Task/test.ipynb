{
 "cells": [
  {
   "cell_type": "code",
   "execution_count": null,
   "metadata": {},
   "outputs": [
    {
     "name": "stderr",
     "output_type": "stream",
     "text": [
      "100%|██████████| 10/10 [00:00<00:00, 83.29it/s]\n"
     ]
    }
   ],
   "source": [
    "from pathlib import Path\n",
    "from tqdm import tqdm\n",
    "from random import randint\n",
    "\n",
    "tests_dir = Path('tests')\n",
    "for i in tqdm(range(1, 10)):\n",
    "    test_path = tests_dir / f'test_{i}'\n",
    "    test_path.mkdir(exist_ok=True, parents=True)\n",
    "\n",
    "    number = randint(-5, 5)\n",
    "    power = randint(0, 5)\n",
    "    result = number ** power\n",
    "    \n",
    "    with open(test_path / 'input.txt', 'w') as fp:\n",
    "        fp.writelines([\n",
    "            str(number), ' ',\n",
    "            str(power), '\\n'\n",
    "        ])\n",
    "    with open(test_path / 'output.txt', 'w') as fp:\n",
    "        fp.writelines([\n",
    "            str(result), '\\n'\n",
    "        ])"
   ]
  }
 ],
 "metadata": {
  "kernelspec": {
   "display_name": "hw_env",
   "language": "python",
   "name": "python3"
  },
  "language_info": {
   "codemirror_mode": {
    "name": "ipython",
    "version": 3
   },
   "file_extension": ".py",
   "mimetype": "text/x-python",
   "name": "python",
   "nbconvert_exporter": "python",
   "pygments_lexer": "ipython3",
   "version": "3.9.7"
  }
 },
 "nbformat": 4,
 "nbformat_minor": 2
}
